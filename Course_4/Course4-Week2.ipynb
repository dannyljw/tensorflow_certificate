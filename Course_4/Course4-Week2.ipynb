{
 "cells": [
  {
   "cell_type": "markdown",
   "metadata": {},
   "source": [
    "# Preparing feature and labels\n",
    "\n",
    "이제는 우리가 배운 것은 ML 로 예측하는 것을 해보려고 한다. \n",
    "\n",
    "ML 로 예측을 하기 위해서는 data 를 feature, label 로 나눠야된다. \n",
    "\n",
    "이러한 경우 feature 는 time series 에서 y 축에 해당하는 애들임을 알면 되겠다. \n",
    "\n",
    "**Window Size : 우리가 feature 로써 앞으로 사용하려는 value 의 갯수. **\n",
    "\n",
    "#### 여기에서 이해 안되는점, 우리ㅣ가 window size = 30 으로 해 두면 그것을 feature 로 사용핟나고 했고 next value 를 label 로 사용한다고 한다. 이게 정확하게 무슨 의미인지 이해가 되지 않음. \n",
    "\n",
    "그리고 나서 그 30 개의 feature 를 single label 로 만든다고 한다. \n",
    "\n",
    "### dataset = dataset.window(5, shift=1)\n",
    "\n",
    "로 해두면 5개의 값만 표현하게 되며 값자체를 1 \n",
    "\n",
    "씩 shift 하게 만든다는 의미이다. 그리고 값이 더이상 존재하지 않게 되면, range 를 0~9 로 두\n",
    "\n",
    "게 되면, 최종적으로 9만 남게 될때 이제 끝이 나게 되는 것이다.  \n",
    "\n",
    "\n",
    "### dateaset = dataset.window(5, shift = 1, drop_remainder = True) \n",
    "\n",
    "drop_remainder 로 하게 되면, 전에는 1개 짜리가 보이는 경우도 있었는데, 이제는 window size 만큼의 데이터만 보여주게 된다. (truncate ) 한다고 한다. \n",
    "\n",
    "이제부터는 쉽다고 한다. \n",
    "\n",
    "for window in dataset : print(window.numpy()) 를 하게 되면 numpy list 로 되어있는 상태로 데이터들이 다 다 들어간다고 한다. \n",
    "\n",
    "### dataset = dataset.map(lambd window: (window [:-1], window[-1:]))\n",
    "\n",
    "이제 데이터를 feature 와 label 로 나누는 작업을 하자고 한다. \n",
    "\n",
    "numpy list 에서 제일 뒤에있는 것을 feature 로 만드는 것을 한다고 한다. 즉 label 로 만들 것이라고 한다. \n",
    "\n",
    "이것은 dataset.map 을 통해서 구현을 할수 있다고 한다. \n",
    "\n",
    "### dataset = dataset.shuffle(buffer_size = 10)\n",
    "\n",
    "shuffle 을 할수도 있다고 한다. buffer_sieze =10 를 하는 이유는 우리는 데이터의 range 가 10 이기 때문...\n",
    "\n",
    "shuffle 을 진행하게 되면, 그냥 list 내부적으로 뭔가를 건드는 것이 아니라, 그냥 나열이 되어있는 list 들의 순서를 변경하는 것이라고 이해하면 될거 같다. \n",
    "\n",
    "### dataset = dataset.batch(2).prefetch(1)\n",
    "\n",
    "batching 을 진행할 수 있다고 한다. batch the data in the size of 2..... \n",
    "\n",
    "x 안에 두개의 리스트가 나오며, y 에도 두개의 label 이 나오게 되는 것이다. \n",
    "\n"
   ]
  },
  {
   "cell_type": "code",
   "execution_count": 1,
   "metadata": {
    "ExecuteTime": {
     "end_time": "2021-08-13T02:50:35.023874Z",
     "start_time": "2021-08-13T02:50:30.992251Z"
    }
   },
   "outputs": [
    {
     "name": "stdout",
     "output_type": "stream",
     "text": [
      "2.1.0\n"
     ]
    }
   ],
   "source": [
    "import tensorflow as tf\n",
    "import numpy as np\n",
    "import matplotlib.pyplot as plt\n",
    "print(tf.__version__)"
   ]
  },
  {
   "cell_type": "code",
   "execution_count": 2,
   "metadata": {
    "ExecuteTime": {
     "end_time": "2021-08-13T02:50:48.478929Z",
     "start_time": "2021-08-13T02:50:48.439821Z"
    }
   },
   "outputs": [
    {
     "name": "stdout",
     "output_type": "stream",
     "text": [
      "0\n",
      "1\n",
      "2\n",
      "3\n",
      "4\n",
      "5\n",
      "6\n",
      "7\n",
      "8\n",
      "9\n"
     ]
    }
   ],
   "source": [
    "dataset = tf.data.Dataset.range(10)\n",
    "for val in dataset:\n",
    "    print(val.numpy())"
   ]
  },
  {
   "cell_type": "code",
   "execution_count": 5,
   "metadata": {
    "ExecuteTime": {
     "end_time": "2021-08-13T02:52:01.822206Z",
     "start_time": "2021-08-13T02:52:01.812143Z"
    }
   },
   "outputs": [
    {
     "ename": "SyntaxError",
     "evalue": "invalid syntax (<ipython-input-5-aa19502b18f6>, line 5)",
     "output_type": "error",
     "traceback": [
      "\u001b[0;36m  File \u001b[0;32m\"<ipython-input-5-aa19502b18f6>\"\u001b[0;36m, line \u001b[0;32m5\u001b[0m\n\u001b[0;31m    print(val.numpy(), end=\" \")\u001b[0m\n\u001b[0m                          ^\u001b[0m\n\u001b[0;31mSyntaxError\u001b[0m\u001b[0;31m:\u001b[0m invalid syntax\n"
     ]
    }
   ],
   "source": [
    "dataset = tf.data.Dataset.range(10)\n",
    "dataset = dataset.window(5, shift=1)\n",
    "for window_dataset in dataset:\n",
    "  for val in window_dataset:\n",
    "    print(val.numpy(), end=\" \")\n",
    "  print()"
   ]
  },
  {
   "cell_type": "code",
   "execution_count": 6,
   "metadata": {
    "ExecuteTime": {
     "end_time": "2021-08-13T02:52:23.049270Z",
     "start_time": "2021-08-13T02:52:23.040157Z"
    }
   },
   "outputs": [
    {
     "ename": "SyntaxError",
     "evalue": "invalid syntax (<ipython-input-6-28fa158ac151>, line 5)",
     "output_type": "error",
     "traceback": [
      "\u001b[0;36m  File \u001b[0;32m\"<ipython-input-6-28fa158ac151>\"\u001b[0;36m, line \u001b[0;32m5\u001b[0m\n\u001b[0;31m    print(val.numpy(), end=\" \")\u001b[0m\n\u001b[0m                          ^\u001b[0m\n\u001b[0;31mSyntaxError\u001b[0m\u001b[0;31m:\u001b[0m invalid syntax\n"
     ]
    }
   ],
   "source": [
    "dataset = tf.data.Dataset.range(10)\n",
    "dataset = dataset.window(5, shift=1, drop_remainder=True)\n",
    "for window_dataset in dataset:\n",
    "  for val in window_dataset:\n",
    "    print(val.numpy(), end=\" \")\n",
    "  print()"
   ]
  },
  {
   "cell_type": "code",
   "execution_count": 7,
   "metadata": {
    "ExecuteTime": {
     "end_time": "2021-08-13T02:52:28.405132Z",
     "start_time": "2021-08-13T02:52:28.224533Z"
    }
   },
   "outputs": [
    {
     "name": "stdout",
     "output_type": "stream",
     "text": [
      "[0 1 2 3 4]\n",
      "[1 2 3 4 5]\n",
      "[2 3 4 5 6]\n",
      "[3 4 5 6 7]\n",
      "[4 5 6 7 8]\n",
      "[5 6 7 8 9]\n"
     ]
    }
   ],
   "source": [
    "dataset = tf.data.Dataset.range(10)\n",
    "dataset = dataset.window(5, shift=1, drop_remainder=True)\n",
    "dataset = dataset.flat_map(lambda window: window.batch(5))\n",
    "for window in dataset:\n",
    "  print(window.numpy())\n"
   ]
  },
  {
   "cell_type": "code",
   "execution_count": 8,
   "metadata": {
    "ExecuteTime": {
     "end_time": "2021-08-13T02:52:33.482639Z",
     "start_time": "2021-08-13T02:52:33.367393Z"
    }
   },
   "outputs": [
    {
     "name": "stdout",
     "output_type": "stream",
     "text": [
      "(array([0, 1, 2, 3]), array([4]))\n",
      "(array([1, 2, 3, 4]), array([5]))\n",
      "(array([2, 3, 4, 5]), array([6]))\n",
      "(array([3, 4, 5, 6]), array([7]))\n",
      "(array([4, 5, 6, 7]), array([8]))\n",
      "(array([5, 6, 7, 8]), array([9]))\n"
     ]
    }
   ],
   "source": [
    "dataset = tf.data.Dataset.range(10)\n",
    "dataset = dataset.window(5, shift=1, drop_remainder=True)\n",
    "dataset = dataset.flat_map(lambda window: window.batch(5))\n",
    "dataset = dataset.map(lambda window: (window[:-1], window[-1:]))\n",
    "for x,y in dataset:\n",
    "  print(x.numpy(), y.numpy())"
   ]
  },
  {
   "cell_type": "code",
   "execution_count": 9,
   "metadata": {
    "ExecuteTime": {
     "end_time": "2021-08-13T02:53:33.038882Z",
     "start_time": "2021-08-13T02:53:32.922455Z"
    }
   },
   "outputs": [
    {
     "name": "stdout",
     "output_type": "stream",
     "text": [
      "(array([4, 5, 6, 7]), array([8]))\n",
      "(array([3, 4, 5, 6]), array([7]))\n",
      "(array([2, 3, 4, 5]), array([6]))\n",
      "(array([5, 6, 7, 8]), array([9]))\n",
      "(array([1, 2, 3, 4]), array([5]))\n",
      "(array([0, 1, 2, 3]), array([4]))\n"
     ]
    }
   ],
   "source": [
    "dataset = tf.data.Dataset.range(10)\n",
    "dataset = dataset.window(5, shift=1, drop_remainder=True)\n",
    "dataset = dataset.flat_map(lambda window: window.batch(5))\n",
    "dataset = dataset.map(lambda window: (window[:-1], window[-1:]))\n",
    "dataset = dataset.shuffle(buffer_size=10)\n",
    "for x,y in dataset:\n",
    "  print(x.numpy(), y.numpy())\n"
   ]
  },
  {
   "cell_type": "code",
   "execution_count": 10,
   "metadata": {
    "ExecuteTime": {
     "end_time": "2021-08-13T02:53:37.934489Z",
     "start_time": "2021-08-13T02:53:37.817679Z"
    }
   },
   "outputs": [
    {
     "name": "stdout",
     "output_type": "stream",
     "text": [
      "('x = ', array([[2, 3, 4, 5],\n",
      "       [1, 2, 3, 4]]))\n",
      "('y = ', array([[6],\n",
      "       [5]]))\n",
      "('x = ', array([[3, 4, 5, 6],\n",
      "       [5, 6, 7, 8]]))\n",
      "('y = ', array([[7],\n",
      "       [9]]))\n",
      "('x = ', array([[0, 1, 2, 3],\n",
      "       [4, 5, 6, 7]]))\n",
      "('y = ', array([[4],\n",
      "       [8]]))\n"
     ]
    }
   ],
   "source": [
    "dataset = tf.data.Dataset.range(10)\n",
    "dataset = dataset.window(5, shift=1, drop_remainder=True)\n",
    "dataset = dataset.flat_map(lambda window: window.batch(5))\n",
    "dataset = dataset.map(lambda window: (window[:-1], window[-1:]))\n",
    "dataset = dataset.shuffle(buffer_size=10)\n",
    "dataset = dataset.batch(2).prefetch(1)\n",
    "for x,y in dataset:\n",
    "  print(\"x = \", x.numpy())\n",
    "  print(\"y = \", y.numpy())\n"
   ]
  },
  {
   "cell_type": "markdown",
   "metadata": {},
   "source": [
    "# Sequence bias \n",
    "\n",
    "ordering 한 것을 select 할때 영향을 준다는 것이 sequence bias 의 의미이다. 익숙한 것을 뽑아 주고 싶은 마음이 있다고 한다. \n",
    "\n",
    "그래서 항상 shuffle 을 진행하는 것이라고 한다. \n",
    "\n",
    "# Feeding windowed dataset into nerual Network\n",
    "\n",
    "여기에서도 전과 비슷하게 window 라는 것을 이용해서 진행할 것이라고 한다.그냥 함수 만드는 것에 대해서 얘기 잠간 했다. 딱히 NN 에 넣는 작업은 없었다. \n",
    "\n",
    "# Single layer neural network\n",
    "\n",
    "linear regression 을 사용할 것이라고 한다. 사용하는 이유에 대해서는 정확하게 나오지 않았고, \n",
    "\n",
    "그냥 심플하면서 효과적인 방법을 사용할 것이라고 말을 해 두었다. \n",
    "\n",
    "코드에서 layer 0 라는 것을 설정한다고 한다. \n",
    "\n",
    "### l0 = tf.ekras.layers.Dense(1, input_shape = [window_size]) \n",
    "나중에 Learned weight 를 뽑아 낼 것이라고 한다. \n",
    "\n",
    "이상하게 이번에는 Layer 가 하나밖에 없는 것으로 neural network 를 구현하고자 한다. \n",
    "\n",
    "### Q's더 추가 하는 방법은 없는 것인가? \n",
    "\n",
    "verbose : display 되는 epoch 의 갯수를 의미하죠? \n",
    "\n",
    "### machine learning on time windows\n",
    "\n",
    "value on the horizontal axis which is commonly called the x-axis, its' the value of the time series at that point on the horizontal axis. So the value at time t0, which is 20 steps before the current value is called x0, and t1 is called x1, etc. Similarly, for the output, which we would then consider to be the value at the current time to be the y. \n",
    "\n",
    "# prediction\n",
    "\n",
    "아 ! linear regression 을 언급한 이유가, 우리가 weight 를 이용해서 regression 처럼 보이게 만들것이라는 것이구나! \n",
    "\n",
    "weight 는 그럼, 그 timestamp 에 해당하는 x 값과 곱하고 더하는 방향으로 y 값을 예측하는 것이다.  y = w0x0+w1x1+...x19w19+b (bias_) \n",
    "\n",
    "print(series[1:21] 을 하게 되면, 20x 값을 알수 있게 되는 것이다. \n",
    "\n",
    "model.predict(series[1:21][np.newaxis]) 을 하게 되면, 학습을 진행하는 것이다. \n",
    "\n",
    "forecast 라는 것 자체가 미래 예측하는 것을 의미하는 것이다. 그래서 forecast 라는 리스트를 새로 만들어서, 아에 그래프가 나오도록만들수도 있는 것이다. \n",
    "\n",
    "여태는 계속해서 single layer 에 애해서만 진행을 하고 있다. 왠지는 모르겠네... \n",
    "\n",
    "아 다음부터 DNN 을 한다고 한다 ! \n",
    "\n",
    "코드를 직접 돌린다고 해도 , MSE 가 다를 수도 있다. 왜냐하면 noise 를 생성할때 임의로 생성이 되기 때문이다. \n",
    "\n"
   ]
  },
  {
   "cell_type": "code",
   "execution_count": 11,
   "metadata": {
    "ExecuteTime": {
     "end_time": "2021-08-13T04:42:00.756642Z",
     "start_time": "2021-08-13T04:42:00.750342Z"
    }
   },
   "outputs": [],
   "source": [
    "try:\n",
    "  # %tensorflow_version only exists in Colab.\n",
    "  %tensorflow_version 2.x\n",
    "except Exception:\n",
    "  pass"
   ]
  },
  {
   "cell_type": "code",
   "execution_count": 12,
   "metadata": {
    "ExecuteTime": {
     "end_time": "2021-08-13T04:42:04.525302Z",
     "start_time": "2021-08-13T04:42:04.519698Z"
    }
   },
   "outputs": [
    {
     "name": "stdout",
     "output_type": "stream",
     "text": [
      "2.1.0\n"
     ]
    }
   ],
   "source": [
    "import tensorflow as tf\n",
    "import numpy as np\n",
    "import matplotlib.pyplot as plt\n",
    "print(tf.__version__)"
   ]
  },
  {
   "cell_type": "code",
   "execution_count": 13,
   "metadata": {
    "ExecuteTime": {
     "end_time": "2021-08-13T04:42:08.721620Z",
     "start_time": "2021-08-13T04:42:08.682423Z"
    }
   },
   "outputs": [],
   "source": [
    "def plot_series(time, series, format=\"-\", start=0, end=None):\n",
    "    plt.plot(time[start:end], series[start:end], format)\n",
    "    plt.xlabel(\"Time\")\n",
    "    plt.ylabel(\"Value\")\n",
    "    plt.grid(True)\n",
    "\n",
    "def trend(time, slope=0):\n",
    "    return slope * time\n",
    "\n",
    "def seasonal_pattern(season_time):\n",
    "    \"\"\"Just an arbitrary pattern, you can change it if you wish\"\"\"\n",
    "    return np.where(season_time < 0.4,\n",
    "                    np.cos(season_time * 2 * np.pi),\n",
    "                    1 / np.exp(3 * season_time))\n",
    "\n",
    "def seasonality(time, period, amplitude=1, phase=0):\n",
    "    \"\"\"Repeats the same pattern at each period\"\"\"\n",
    "    season_time = ((time + phase) % period) / period\n",
    "    return amplitude * seasonal_pattern(season_time)\n",
    "\n",
    "def noise(time, noise_level=1, seed=None):\n",
    "    rnd = np.random.RandomState(seed)\n",
    "    return rnd.randn(len(time)) * noise_level\n",
    "\n",
    "time = np.arange(4 * 365 + 1, dtype=\"float32\")\n",
    "baseline = 10\n",
    "series = trend(time, 0.1)  \n",
    "baseline = 10\n",
    "amplitude = 40\n",
    "slope = 0.05\n",
    "noise_level = 5\n",
    "\n",
    "# Create the series\n",
    "series = baseline + trend(time, slope) + seasonality(time, period=365, amplitude=amplitude)\n",
    "# Update with noise\n",
    "series += noise(time, noise_level, seed=42)\n",
    "\n",
    "split_time = 1000\n",
    "time_train = time[:split_time]\n",
    "x_train = series[:split_time]\n",
    "time_valid = time[split_time:]\n",
    "x_valid = series[split_time:]\n",
    "\n",
    "window_size = 20\n",
    "batch_size = 32\n",
    "shuffle_buffer_size = 1000"
   ]
  },
  {
   "cell_type": "code",
   "execution_count": 14,
   "metadata": {
    "ExecuteTime": {
     "end_time": "2021-08-13T04:42:12.457148Z",
     "start_time": "2021-08-13T04:42:12.448895Z"
    }
   },
   "outputs": [],
   "source": [
    "def windowed_dataset(series, window_size, batch_size, shuffle_buffer):\n",
    "  dataset = tf.data.Dataset.from_tensor_slices(series)\n",
    "  dataset = dataset.window(window_size + 1, shift=1, drop_remainder=True)\n",
    "  dataset = dataset.flat_map(lambda window: window.batch(window_size + 1))\n",
    "  dataset = dataset.shuffle(shuffle_buffer).map(lambda window: (window[:-1], window[-1]))\n",
    "  dataset = dataset.batch(batch_size).prefetch(1)\n",
    "  return dataset"
   ]
  },
  {
   "cell_type": "code",
   "execution_count": 15,
   "metadata": {
    "ExecuteTime": {
     "end_time": "2021-08-13T04:42:26.421724Z",
     "start_time": "2021-08-13T04:42:15.669031Z"
    }
   },
   "outputs": [
    {
     "name": "stdout",
     "output_type": "stream",
     "text": [
      "<PrefetchDataset shapes: ((None, None), (None,)), types: (tf.float32, tf.float32)>\n",
      "Layer weights [array([[-0.07449463],\n",
      "       [ 0.00055847],\n",
      "       [ 0.0706593 ],\n",
      "       [ 0.03450776],\n",
      "       [-0.02344535],\n",
      "       [-0.01600871],\n",
      "       [-0.00403608],\n",
      "       [ 0.0074815 ],\n",
      "       [-0.0399819 ],\n",
      "       [ 0.10656881],\n",
      "       [-0.03324234],\n",
      "       [-0.029985  ],\n",
      "       [-0.11413685],\n",
      "       [ 0.1159035 ],\n",
      "       [ 0.01686029],\n",
      "       [ 0.09906794],\n",
      "       [-0.02463818],\n",
      "       [ 0.18609957],\n",
      "       [ 0.26329064],\n",
      "       [ 0.44711637]], dtype=float32), array([0.01559194], dtype=float32)]\n"
     ]
    }
   ],
   "source": [
    "dataset = windowed_dataset(x_train, window_size, batch_size, shuffle_buffer_size)\n",
    "print(dataset)\n",
    "l0 = tf.keras.layers.Dense(1, input_shape=[window_size])\n",
    "model = tf.keras.models.Sequential([l0])\n",
    "\n",
    "\n",
    "model.compile(loss=\"mse\", optimizer=tf.keras.optimizers.SGD(lr=1e-6, momentum=0.9))\n",
    "model.fit(dataset,epochs=100,verbose=0)\n",
    "\n",
    "print(\"Layer weights {}\".format(l0.get_weights()))\n"
   ]
  },
  {
   "cell_type": "code",
   "execution_count": 16,
   "metadata": {
    "ExecuteTime": {
     "end_time": "2021-08-13T04:42:57.532475Z",
     "start_time": "2021-08-13T04:42:26.520540Z"
    }
   },
   "outputs": [
    {
     "data": {
      "image/png": "[encoded data removed]",
      "text/plain": [
       "<Figure size 720x432 with 1 Axes>"
      ]
     },
     "metadata": {
      "needs_background": "light"
     },
     "output_type": "display_data"
    }
   ],
   "source": [
    "forecast = []\n",
    "\n",
    "for time in range(len(series) - window_size):\n",
    "  forecast.append(model.predict(series[time:time + window_size][np.newaxis]))\n",
    "\n",
    "forecast = forecast[split_time-window_size:]\n",
    "results = np.array(forecast)[:, 0, 0]\n",
    "\n",
    "\n",
    "plt.figure(figsize=(10, 6))\n",
    "\n",
    "plot_series(time_valid, x_valid)\n",
    "plot_series(time_valid, results)\n",
    "\n"
   ]
  },
  {
   "cell_type": "markdown",
   "metadata": {},
   "source": [
    "# Deep neural network training, tuning and prediction\n",
    "\n",
    "linear regression 을 사용할 것이라고하며, dense layer = 3 개로 전과는 다르게 되어있다. \n",
    "\n",
    "dataset 은 항상 window_dataset 형태로 넣는 것 처럼 보인다. \n",
    "\n",
    "input_shape = window_size 으로 항상 한정이 되어있는 것 같음.. \n",
    "\n",
    "그래프의 형태가 이상하면 짤라서 펼쳐서 볼 수 있는 방법이 있다. "
   ]
  }
 ],
 "metadata": {
  "hide_input": false,
  "kernelspec": {
   "display_name": "Python 2",
   "language": "python",
   "name": "python2"
  },
  "language_info": {
   "codemirror_mode": {
    "name": "ipython",
    "version": 2
   },
   "file_extension": ".py",
   "mimetype": "text/x-python",
   "name": "python",
   "nbconvert_exporter": "python",
   "pygments_lexer": "ipython2",
   "version": "2.7.18"
  },
  "varInspector": {
   "cols": {
    "lenName": 16,
    "lenType": 16,
    "lenVar": 40
   },
   "kernels_config": {
    "python": {
     "delete_cmd_postfix": "",
     "delete_cmd_prefix": "del ",
     "library": "var_list.py",
     "varRefreshCmd": "print(var_dic_list())"
    },
    "r": {
     "delete_cmd_postfix": ") ",
     "delete_cmd_prefix": "rm(",
     "library": "var_list.r",
     "varRefreshCmd": "cat(var_dic_list()) "
    }
   },
   "types_to_exclude": [
    "module",
    "function",
    "builtin_function_or_method",
    "instance",
    "_Feature"
   ],
   "window_display": false
  }
 },
 "nbformat": 4,
 "nbformat_minor": 2
}
